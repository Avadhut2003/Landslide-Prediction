{
 "cells": [
  {
   "cell_type": "markdown",
   "metadata": {
    "colab_type": "text",
    "id": "S_NIzz0DIxUQ"
   },
   "source": [
    "#**CROP YIELD PREDICTION**"
   ]
  },
  {
   "cell_type": "markdown",
   "metadata": {
    "colab_type": "text",
    "id": "4q9XG_lYfqd2"
   },
   "source": [
    "#Dataset 1"
   ]
  },
  {
   "cell_type": "markdown",
   "metadata": {
    "colab_type": "text",
    "id": "hoIvQtcvOiYB"
   },
   "source": [
    "##Reading Dataset"
   ]
  },
  {
   "cell_type": "code",
   "execution_count": 1,
   "metadata": {
    "colab": {
     "base_uri": "https://localhost:8080/",
     "height": 424
    },
    "colab_type": "code",
    "id": "t9DHU4au4lKN",
    "outputId": "4b5c8394-3135-4c26-f852-73f42aaa7f64"
   },
   "outputs": [
    {
     "data": {
      "text/html": [
       "<div>\n",
       "<style scoped>\n",
       "    .dataframe tbody tr th:only-of-type {\n",
       "        vertical-align: middle;\n",
       "    }\n",
       "\n",
       "    .dataframe tbody tr th {\n",
       "        vertical-align: top;\n",
       "    }\n",
       "\n",
       "    .dataframe thead th {\n",
       "        text-align: right;\n",
       "    }\n",
       "</style>\n",
       "<table border=\"1\" class=\"dataframe\">\n",
       "  <thead>\n",
       "    <tr style=\"text-align: right;\">\n",
       "      <th></th>\n",
       "      <th>Unnamed: 0</th>\n",
       "      <th>state_names</th>\n",
       "      <th>district_names</th>\n",
       "      <th>crop_year</th>\n",
       "      <th>season_names</th>\n",
       "      <th>crop_names</th>\n",
       "      <th>area</th>\n",
       "      <th>temperature</th>\n",
       "      <th>wind_speed</th>\n",
       "      <th>precipitation</th>\n",
       "      <th>humidity</th>\n",
       "      <th>soil_type</th>\n",
       "      <th>N</th>\n",
       "      <th>P</th>\n",
       "      <th>K</th>\n",
       "      <th>production</th>\n",
       "      <th>pressure</th>\n",
       "    </tr>\n",
       "  </thead>\n",
       "  <tbody>\n",
       "    <tr>\n",
       "      <th>0</th>\n",
       "      <td>76865</td>\n",
       "      <td>Karnataka</td>\n",
       "      <td>BAGALKOT</td>\n",
       "      <td>1998</td>\n",
       "      <td>Kharif</td>\n",
       "      <td>Arhar/Tur</td>\n",
       "      <td>6154</td>\n",
       "      <td>301.802223</td>\n",
       "      <td>2.327734</td>\n",
       "      <td>1018.003584</td>\n",
       "      <td>63</td>\n",
       "      <td>silt</td>\n",
       "      <td>16.008</td>\n",
       "      <td>42.688</td>\n",
       "      <td>21.344</td>\n",
       "      <td>2602.0</td>\n",
       "      <td>1007</td>\n",
       "    </tr>\n",
       "    <tr>\n",
       "      <th>1</th>\n",
       "      <td>76866</td>\n",
       "      <td>Karnataka</td>\n",
       "      <td>BAGALKOT</td>\n",
       "      <td>1998</td>\n",
       "      <td>Kharif</td>\n",
       "      <td>Bajra</td>\n",
       "      <td>48855</td>\n",
       "      <td>302.553828</td>\n",
       "      <td>2.012944</td>\n",
       "      <td>1017.190269</td>\n",
       "      <td>64</td>\n",
       "      <td>peaty</td>\n",
       "      <td>6.440</td>\n",
       "      <td>6.440</td>\n",
       "      <td>0.000</td>\n",
       "      <td>52375.0</td>\n",
       "      <td>1006</td>\n",
       "    </tr>\n",
       "    <tr>\n",
       "      <th>2</th>\n",
       "      <td>76867</td>\n",
       "      <td>Karnataka</td>\n",
       "      <td>BAGALKOT</td>\n",
       "      <td>1998</td>\n",
       "      <td>Kharif</td>\n",
       "      <td>Castor seed</td>\n",
       "      <td>71</td>\n",
       "      <td>302.490677</td>\n",
       "      <td>2.497929</td>\n",
       "      <td>1015.286836</td>\n",
       "      <td>64</td>\n",
       "      <td>chalky</td>\n",
       "      <td>3.304</td>\n",
       "      <td>8.260</td>\n",
       "      <td>3.304</td>\n",
       "      <td>61.0</td>\n",
       "      <td>1007</td>\n",
       "    </tr>\n",
       "    <tr>\n",
       "      <th>3</th>\n",
       "      <td>76868</td>\n",
       "      <td>Karnataka</td>\n",
       "      <td>BAGALKOT</td>\n",
       "      <td>1998</td>\n",
       "      <td>Kharif</td>\n",
       "      <td>Cotton(lint)</td>\n",
       "      <td>15225</td>\n",
       "      <td>303.733295</td>\n",
       "      <td>2.487033</td>\n",
       "      <td>1014.263695</td>\n",
       "      <td>64</td>\n",
       "      <td>clay</td>\n",
       "      <td>0.152</td>\n",
       "      <td>0.152</td>\n",
       "      <td>0.152</td>\n",
       "      <td>22129.0</td>\n",
       "      <td>1005</td>\n",
       "    </tr>\n",
       "    <tr>\n",
       "      <th>4</th>\n",
       "      <td>76869</td>\n",
       "      <td>Karnataka</td>\n",
       "      <td>BAGALKOT</td>\n",
       "      <td>1998</td>\n",
       "      <td>Kharif</td>\n",
       "      <td>Groundnut</td>\n",
       "      <td>16368</td>\n",
       "      <td>301.910350</td>\n",
       "      <td>2.242010</td>\n",
       "      <td>1017.452448</td>\n",
       "      <td>63</td>\n",
       "      <td>chalky</td>\n",
       "      <td>4.000</td>\n",
       "      <td>5.000</td>\n",
       "      <td>0.000</td>\n",
       "      <td>7734.0</td>\n",
       "      <td>1005</td>\n",
       "    </tr>\n",
       "    <tr>\n",
       "      <th>...</th>\n",
       "      <td>...</td>\n",
       "      <td>...</td>\n",
       "      <td>...</td>\n",
       "      <td>...</td>\n",
       "      <td>...</td>\n",
       "      <td>...</td>\n",
       "      <td>...</td>\n",
       "      <td>...</td>\n",
       "      <td>...</td>\n",
       "      <td>...</td>\n",
       "      <td>...</td>\n",
       "      <td>...</td>\n",
       "      <td>...</td>\n",
       "      <td>...</td>\n",
       "      <td>...</td>\n",
       "      <td>...</td>\n",
       "      <td>...</td>\n",
       "    </tr>\n",
       "    <tr>\n",
       "      <th>21117</th>\n",
       "      <td>97982</td>\n",
       "      <td>Karnataka</td>\n",
       "      <td>YADGIR</td>\n",
       "      <td>2014</td>\n",
       "      <td>Summer</td>\n",
       "      <td>Rice</td>\n",
       "      <td>15205</td>\n",
       "      <td>302.303628</td>\n",
       "      <td>2.529410</td>\n",
       "      <td>1016.838988</td>\n",
       "      <td>71</td>\n",
       "      <td>clay</td>\n",
       "      <td>1.325</td>\n",
       "      <td>0.000</td>\n",
       "      <td>0.000</td>\n",
       "      <td>35029.0</td>\n",
       "      <td>1006</td>\n",
       "    </tr>\n",
       "    <tr>\n",
       "      <th>21118</th>\n",
       "      <td>97983</td>\n",
       "      <td>Karnataka</td>\n",
       "      <td>YADGIR</td>\n",
       "      <td>2014</td>\n",
       "      <td>Summer</td>\n",
       "      <td>Sunflower</td>\n",
       "      <td>14</td>\n",
       "      <td>302.886851</td>\n",
       "      <td>2.002156</td>\n",
       "      <td>1017.702519</td>\n",
       "      <td>70</td>\n",
       "      <td>loamy</td>\n",
       "      <td>5.980</td>\n",
       "      <td>5.980</td>\n",
       "      <td>0.000</td>\n",
       "      <td>5.0</td>\n",
       "      <td>1006</td>\n",
       "    </tr>\n",
       "    <tr>\n",
       "      <th>21119</th>\n",
       "      <td>97984</td>\n",
       "      <td>Karnataka</td>\n",
       "      <td>YADGIR</td>\n",
       "      <td>2014</td>\n",
       "      <td>Whole Year</td>\n",
       "      <td>Coconut</td>\n",
       "      <td>168</td>\n",
       "      <td>303.050650</td>\n",
       "      <td>2.229170</td>\n",
       "      <td>1017.205050</td>\n",
       "      <td>71</td>\n",
       "      <td>chalky</td>\n",
       "      <td>0.000</td>\n",
       "      <td>0.000</td>\n",
       "      <td>0.000</td>\n",
       "      <td>1499.0</td>\n",
       "      <td>1004</td>\n",
       "    </tr>\n",
       "    <tr>\n",
       "      <th>21120</th>\n",
       "      <td>97985</td>\n",
       "      <td>Karnataka</td>\n",
       "      <td>YADGIR</td>\n",
       "      <td>2014</td>\n",
       "      <td>Whole Year</td>\n",
       "      <td>Coriander</td>\n",
       "      <td>1</td>\n",
       "      <td>302.637341</td>\n",
       "      <td>2.315178</td>\n",
       "      <td>1014.029037</td>\n",
       "      <td>70</td>\n",
       "      <td>sandy</td>\n",
       "      <td>740.002</td>\n",
       "      <td>0.000</td>\n",
       "      <td>0.000</td>\n",
       "      <td>NaN</td>\n",
       "      <td>1006</td>\n",
       "    </tr>\n",
       "    <tr>\n",
       "      <th>21121</th>\n",
       "      <td>97986</td>\n",
       "      <td>Karnataka</td>\n",
       "      <td>YADGIR</td>\n",
       "      <td>2014</td>\n",
       "      <td>Whole Year</td>\n",
       "      <td>Sugarcane</td>\n",
       "      <td>862</td>\n",
       "      <td>302.957638</td>\n",
       "      <td>2.214874</td>\n",
       "      <td>1015.060439</td>\n",
       "      <td>72</td>\n",
       "      <td>clay</td>\n",
       "      <td>32.508</td>\n",
       "      <td>83.076</td>\n",
       "      <td>0.000</td>\n",
       "      <td>78614.0</td>\n",
       "      <td>1005</td>\n",
       "    </tr>\n",
       "  </tbody>\n",
       "</table>\n",
       "<p>21122 rows × 17 columns</p>\n",
       "</div>"
      ],
      "text/plain": [
       "       Unnamed: 0 state_names district_names  crop_year season_names  \\\n",
       "0           76865   Karnataka       BAGALKOT       1998  Kharif        \n",
       "1           76866   Karnataka       BAGALKOT       1998  Kharif        \n",
       "2           76867   Karnataka       BAGALKOT       1998  Kharif        \n",
       "3           76868   Karnataka       BAGALKOT       1998  Kharif        \n",
       "4           76869   Karnataka       BAGALKOT       1998  Kharif        \n",
       "...           ...         ...            ...        ...          ...   \n",
       "21117       97982   Karnataka         YADGIR       2014  Summer        \n",
       "21118       97983   Karnataka         YADGIR       2014  Summer        \n",
       "21119       97984   Karnataka         YADGIR       2014  Whole Year    \n",
       "21120       97985   Karnataka         YADGIR       2014  Whole Year    \n",
       "21121       97986   Karnataka         YADGIR       2014  Whole Year    \n",
       "\n",
       "         crop_names   area  temperature  wind_speed  precipitation  humidity  \\\n",
       "0         Arhar/Tur   6154   301.802223    2.327734    1018.003584        63   \n",
       "1             Bajra  48855   302.553828    2.012944    1017.190269        64   \n",
       "2       Castor seed     71   302.490677    2.497929    1015.286836        64   \n",
       "3      Cotton(lint)  15225   303.733295    2.487033    1014.263695        64   \n",
       "4         Groundnut  16368   301.910350    2.242010    1017.452448        63   \n",
       "...             ...    ...          ...         ...            ...       ...   \n",
       "21117          Rice  15205   302.303628    2.529410    1016.838988        71   \n",
       "21118     Sunflower     14   302.886851    2.002156    1017.702519        70   \n",
       "21119      Coconut     168   303.050650    2.229170    1017.205050        71   \n",
       "21120     Coriander      1   302.637341    2.315178    1014.029037        70   \n",
       "21121     Sugarcane    862   302.957638    2.214874    1015.060439        72   \n",
       "\n",
       "      soil_type        N       P       K  production  pressure  \n",
       "0          silt   16.008  42.688  21.344      2602.0      1007  \n",
       "1         peaty    6.440   6.440   0.000     52375.0      1006  \n",
       "2        chalky    3.304   8.260   3.304        61.0      1007  \n",
       "3          clay    0.152   0.152   0.152     22129.0      1005  \n",
       "4        chalky    4.000   5.000   0.000      7734.0      1005  \n",
       "...         ...      ...     ...     ...         ...       ...  \n",
       "21117      clay    1.325   0.000   0.000     35029.0      1006  \n",
       "21118     loamy    5.980   5.980   0.000         5.0      1006  \n",
       "21119    chalky    0.000   0.000   0.000      1499.0      1004  \n",
       "21120     sandy  740.002   0.000   0.000         NaN      1006  \n",
       "21121      clay   32.508  83.076   0.000     78614.0      1005  \n",
       "\n",
       "[21122 rows x 17 columns]"
      ]
     },
     "execution_count": 1,
     "metadata": {},
     "output_type": "execute_result"
    }
   ],
   "source": [
    "import pandas as pd\n",
    "df = pd.read_csv('karnataka.csv')\n",
    "df"
   ]
  },
  {
   "cell_type": "code",
   "execution_count": null,
   "metadata": {},
   "outputs": [],
   "source": []
  },
  {
   "cell_type": "code",
   "execution_count": 2,
   "metadata": {},
   "outputs": [
    {
     "name": "stdout",
     "output_type": "stream",
     "text": [
      "<class 'pandas.core.frame.DataFrame'>\n",
      "RangeIndex: 21122 entries, 0 to 21121\n",
      "Data columns (total 17 columns):\n",
      " #   Column          Non-Null Count  Dtype  \n",
      "---  ------          --------------  -----  \n",
      " 0   Unnamed: 0      21122 non-null  int64  \n",
      " 1   state_names     21122 non-null  object \n",
      " 2   district_names  21122 non-null  object \n",
      " 3   crop_year       21122 non-null  int64  \n",
      " 4   season_names    21122 non-null  object \n",
      " 5   crop_names      21122 non-null  object \n",
      " 6   area            21122 non-null  int64  \n",
      " 7   temperature     21122 non-null  float64\n",
      " 8   wind_speed      21122 non-null  float64\n",
      " 9   precipitation   21122 non-null  float64\n",
      " 10  humidity        21122 non-null  int64  \n",
      " 11  soil_type       21122 non-null  object \n",
      " 12  N               21122 non-null  float64\n",
      " 13  P               21122 non-null  float64\n",
      " 14  K               21122 non-null  float64\n",
      " 15  production      21079 non-null  float64\n",
      " 16  pressure        21122 non-null  int64  \n",
      "dtypes: float64(7), int64(5), object(5)\n",
      "memory usage: 2.7+ MB\n"
     ]
    }
   ],
   "source": [
    "df.info()   #columns and there data types "
   ]
  },
  {
   "cell_type": "code",
   "execution_count": 3,
   "metadata": {},
   "outputs": [
    {
     "data": {
      "text/plain": [
       "Index(['Unnamed: 0', 'state_names', 'district_names', 'crop_year',\n",
       "       'season_names', 'crop_names', 'area', 'temperature', 'wind_speed',\n",
       "       'precipitation', 'humidity', 'soil_type', 'N', 'P', 'K', 'production',\n",
       "       'pressure'],\n",
       "      dtype='object')"
      ]
     },
     "execution_count": 3,
     "metadata": {},
     "output_type": "execute_result"
    }
   ],
   "source": [
    "df.columns\n"
   ]
  },
  {
   "cell_type": "markdown",
   "metadata": {
    "colab_type": "text",
    "id": "03kn7ZrreQlg"
   },
   "source": [
    "##Reducing Data to One State for Ease"
   ]
  },
  {
   "cell_type": "code",
   "execution_count": 4,
   "metadata": {
    "colab": {},
    "colab_type": "code",
    "id": "PAB2PI8DeWTh"
   },
   "outputs": [],
   "source": [
    "#df = df[df['state_names'] == \"Maharashtra\"]\n",
    "\n",
    "#df.info()"
   ]
  },
  {
   "cell_type": "code",
   "execution_count": 5,
   "metadata": {},
   "outputs": [
    {
     "name": "stdout",
     "output_type": "stream",
     "text": [
      "<class 'pandas.core.frame.DataFrame'>\n",
      "RangeIndex: 21122 entries, 0 to 21121\n",
      "Data columns (total 17 columns):\n",
      " #   Column          Non-Null Count  Dtype  \n",
      "---  ------          --------------  -----  \n",
      " 0   Unnamed: 0      21122 non-null  int64  \n",
      " 1   state_names     21122 non-null  object \n",
      " 2   district_names  21122 non-null  object \n",
      " 3   crop_year       21122 non-null  int64  \n",
      " 4   season_names    21122 non-null  object \n",
      " 5   crop_names      21122 non-null  object \n",
      " 6   area            21122 non-null  int64  \n",
      " 7   temperature     21122 non-null  float64\n",
      " 8   wind_speed      21122 non-null  float64\n",
      " 9   precipitation   21122 non-null  float64\n",
      " 10  humidity        21122 non-null  int64  \n",
      " 11  soil_type       21122 non-null  object \n",
      " 12  N               21122 non-null  float64\n",
      " 13  P               21122 non-null  float64\n",
      " 14  K               21122 non-null  float64\n",
      " 15  production      21079 non-null  float64\n",
      " 16  pressure        21122 non-null  int64  \n",
      "dtypes: float64(7), int64(5), object(5)\n",
      "memory usage: 2.7+ MB\n"
     ]
    }
   ],
   "source": [
    "df.info()"
   ]
  },
  {
   "cell_type": "code",
   "execution_count": 6,
   "metadata": {},
   "outputs": [
    {
     "data": {
      "text/plain": [
       "Unnamed: 0         0\n",
       "state_names        0\n",
       "district_names     0\n",
       "crop_year          0\n",
       "season_names       0\n",
       "crop_names         0\n",
       "area               0\n",
       "temperature        0\n",
       "wind_speed         0\n",
       "precipitation      0\n",
       "humidity           0\n",
       "soil_type          0\n",
       "N                  0\n",
       "P                  0\n",
       "K                  0\n",
       "production        43\n",
       "pressure           0\n",
       "dtype: int64"
      ]
     },
     "execution_count": 6,
     "metadata": {},
     "output_type": "execute_result"
    }
   ],
   "source": [
    "df.isnull().sum()"
   ]
  },
  {
   "cell_type": "code",
   "execution_count": 7,
   "metadata": {},
   "outputs": [
    {
     "data": {
      "text/html": [
       "<div>\n",
       "<style scoped>\n",
       "    .dataframe tbody tr th:only-of-type {\n",
       "        vertical-align: middle;\n",
       "    }\n",
       "\n",
       "    .dataframe tbody tr th {\n",
       "        vertical-align: top;\n",
       "    }\n",
       "\n",
       "    .dataframe thead th {\n",
       "        text-align: right;\n",
       "    }\n",
       "</style>\n",
       "<table border=\"1\" class=\"dataframe\">\n",
       "  <thead>\n",
       "    <tr style=\"text-align: right;\">\n",
       "      <th></th>\n",
       "      <th>Unnamed: 0</th>\n",
       "      <th>state_names</th>\n",
       "      <th>district_names</th>\n",
       "      <th>crop_year</th>\n",
       "      <th>season_names</th>\n",
       "      <th>crop_names</th>\n",
       "      <th>area</th>\n",
       "      <th>temperature</th>\n",
       "      <th>wind_speed</th>\n",
       "      <th>precipitation</th>\n",
       "      <th>humidity</th>\n",
       "      <th>soil_type</th>\n",
       "      <th>N</th>\n",
       "      <th>P</th>\n",
       "      <th>K</th>\n",
       "      <th>production</th>\n",
       "      <th>pressure</th>\n",
       "    </tr>\n",
       "  </thead>\n",
       "  <tbody>\n",
       "    <tr>\n",
       "      <th>0</th>\n",
       "      <td>76865</td>\n",
       "      <td>Karnataka</td>\n",
       "      <td>BAGALKOT</td>\n",
       "      <td>1998</td>\n",
       "      <td>Kharif</td>\n",
       "      <td>Arhar/Tur</td>\n",
       "      <td>6154</td>\n",
       "      <td>301.802223</td>\n",
       "      <td>2.327734</td>\n",
       "      <td>1018.003584</td>\n",
       "      <td>63</td>\n",
       "      <td>silt</td>\n",
       "      <td>16.008</td>\n",
       "      <td>42.688</td>\n",
       "      <td>21.344</td>\n",
       "      <td>2602.0</td>\n",
       "      <td>1007</td>\n",
       "    </tr>\n",
       "    <tr>\n",
       "      <th>1</th>\n",
       "      <td>76866</td>\n",
       "      <td>Karnataka</td>\n",
       "      <td>BAGALKOT</td>\n",
       "      <td>1998</td>\n",
       "      <td>Kharif</td>\n",
       "      <td>Bajra</td>\n",
       "      <td>48855</td>\n",
       "      <td>302.553828</td>\n",
       "      <td>2.012944</td>\n",
       "      <td>1017.190269</td>\n",
       "      <td>64</td>\n",
       "      <td>peaty</td>\n",
       "      <td>6.440</td>\n",
       "      <td>6.440</td>\n",
       "      <td>0.000</td>\n",
       "      <td>52375.0</td>\n",
       "      <td>1006</td>\n",
       "    </tr>\n",
       "    <tr>\n",
       "      <th>2</th>\n",
       "      <td>76867</td>\n",
       "      <td>Karnataka</td>\n",
       "      <td>BAGALKOT</td>\n",
       "      <td>1998</td>\n",
       "      <td>Kharif</td>\n",
       "      <td>Castor seed</td>\n",
       "      <td>71</td>\n",
       "      <td>302.490677</td>\n",
       "      <td>2.497929</td>\n",
       "      <td>1015.286836</td>\n",
       "      <td>64</td>\n",
       "      <td>chalky</td>\n",
       "      <td>3.304</td>\n",
       "      <td>8.260</td>\n",
       "      <td>3.304</td>\n",
       "      <td>61.0</td>\n",
       "      <td>1007</td>\n",
       "    </tr>\n",
       "    <tr>\n",
       "      <th>3</th>\n",
       "      <td>76868</td>\n",
       "      <td>Karnataka</td>\n",
       "      <td>BAGALKOT</td>\n",
       "      <td>1998</td>\n",
       "      <td>Kharif</td>\n",
       "      <td>Cotton(lint)</td>\n",
       "      <td>15225</td>\n",
       "      <td>303.733295</td>\n",
       "      <td>2.487033</td>\n",
       "      <td>1014.263695</td>\n",
       "      <td>64</td>\n",
       "      <td>clay</td>\n",
       "      <td>0.152</td>\n",
       "      <td>0.152</td>\n",
       "      <td>0.152</td>\n",
       "      <td>22129.0</td>\n",
       "      <td>1005</td>\n",
       "    </tr>\n",
       "    <tr>\n",
       "      <th>4</th>\n",
       "      <td>76869</td>\n",
       "      <td>Karnataka</td>\n",
       "      <td>BAGALKOT</td>\n",
       "      <td>1998</td>\n",
       "      <td>Kharif</td>\n",
       "      <td>Groundnut</td>\n",
       "      <td>16368</td>\n",
       "      <td>301.910350</td>\n",
       "      <td>2.242010</td>\n",
       "      <td>1017.452448</td>\n",
       "      <td>63</td>\n",
       "      <td>chalky</td>\n",
       "      <td>4.000</td>\n",
       "      <td>5.000</td>\n",
       "      <td>0.000</td>\n",
       "      <td>7734.0</td>\n",
       "      <td>1005</td>\n",
       "    </tr>\n",
       "    <tr>\n",
       "      <th>5</th>\n",
       "      <td>76870</td>\n",
       "      <td>Karnataka</td>\n",
       "      <td>BAGALKOT</td>\n",
       "      <td>1998</td>\n",
       "      <td>Kharif</td>\n",
       "      <td>Horse-gram</td>\n",
       "      <td>3372</td>\n",
       "      <td>303.563736</td>\n",
       "      <td>2.898366</td>\n",
       "      <td>1016.255211</td>\n",
       "      <td>63</td>\n",
       "      <td>peaty</td>\n",
       "      <td>1.500</td>\n",
       "      <td>0.000</td>\n",
       "      <td>0.000</td>\n",
       "      <td>1156.0</td>\n",
       "      <td>1005</td>\n",
       "    </tr>\n",
       "  </tbody>\n",
       "</table>\n",
       "</div>"
      ],
      "text/plain": [
       "   Unnamed: 0 state_names district_names  crop_year season_names  \\\n",
       "0       76865   Karnataka       BAGALKOT       1998  Kharif        \n",
       "1       76866   Karnataka       BAGALKOT       1998  Kharif        \n",
       "2       76867   Karnataka       BAGALKOT       1998  Kharif        \n",
       "3       76868   Karnataka       BAGALKOT       1998  Kharif        \n",
       "4       76869   Karnataka       BAGALKOT       1998  Kharif        \n",
       "5       76870   Karnataka       BAGALKOT       1998  Kharif        \n",
       "\n",
       "     crop_names   area  temperature  wind_speed  precipitation  humidity  \\\n",
       "0     Arhar/Tur   6154   301.802223    2.327734    1018.003584        63   \n",
       "1         Bajra  48855   302.553828    2.012944    1017.190269        64   \n",
       "2   Castor seed     71   302.490677    2.497929    1015.286836        64   \n",
       "3  Cotton(lint)  15225   303.733295    2.487033    1014.263695        64   \n",
       "4     Groundnut  16368   301.910350    2.242010    1017.452448        63   \n",
       "5    Horse-gram   3372   303.563736    2.898366    1016.255211        63   \n",
       "\n",
       "  soil_type       N       P       K  production  pressure  \n",
       "0      silt  16.008  42.688  21.344      2602.0      1007  \n",
       "1     peaty   6.440   6.440   0.000     52375.0      1006  \n",
       "2    chalky   3.304   8.260   3.304        61.0      1007  \n",
       "3      clay   0.152   0.152   0.152     22129.0      1005  \n",
       "4    chalky   4.000   5.000   0.000      7734.0      1005  \n",
       "5     peaty   1.500   0.000   0.000      1156.0      1005  "
      ]
     },
     "execution_count": 7,
     "metadata": {},
     "output_type": "execute_result"
    }
   ],
   "source": [
    "df.head(6)"
   ]
  },
  {
   "cell_type": "markdown",
   "metadata": {
    "colab_type": "text",
    "id": "AJTAfF6lPEH8"
   },
   "source": [
    "###Making Yield Column"
   ]
  },
  {
   "cell_type": "code",
   "execution_count": 8,
   "metadata": {},
   "outputs": [
    {
     "data": {
      "text/html": [
       "<div>\n",
       "<style scoped>\n",
       "    .dataframe tbody tr th:only-of-type {\n",
       "        vertical-align: middle;\n",
       "    }\n",
       "\n",
       "    .dataframe tbody tr th {\n",
       "        vertical-align: top;\n",
       "    }\n",
       "\n",
       "    .dataframe thead th {\n",
       "        text-align: right;\n",
       "    }\n",
       "</style>\n",
       "<table border=\"1\" class=\"dataframe\">\n",
       "  <thead>\n",
       "    <tr style=\"text-align: right;\">\n",
       "      <th></th>\n",
       "      <th>Unnamed: 0</th>\n",
       "      <th>state_names</th>\n",
       "      <th>district_names</th>\n",
       "      <th>crop_year</th>\n",
       "      <th>season_names</th>\n",
       "      <th>crop_names</th>\n",
       "      <th>area</th>\n",
       "      <th>temperature</th>\n",
       "      <th>wind_speed</th>\n",
       "      <th>precipitation</th>\n",
       "      <th>humidity</th>\n",
       "      <th>soil_type</th>\n",
       "      <th>N</th>\n",
       "      <th>P</th>\n",
       "      <th>K</th>\n",
       "      <th>production</th>\n",
       "      <th>pressure</th>\n",
       "    </tr>\n",
       "  </thead>\n",
       "  <tbody>\n",
       "    <tr>\n",
       "      <th>0</th>\n",
       "      <td>76865</td>\n",
       "      <td>Karnataka</td>\n",
       "      <td>BAGALKOT</td>\n",
       "      <td>1998</td>\n",
       "      <td>Kharif</td>\n",
       "      <td>Arhar/Tur</td>\n",
       "      <td>6154</td>\n",
       "      <td>301.802223</td>\n",
       "      <td>2.327734</td>\n",
       "      <td>1018.003584</td>\n",
       "      <td>63</td>\n",
       "      <td>silt</td>\n",
       "      <td>16.008</td>\n",
       "      <td>42.688</td>\n",
       "      <td>21.344</td>\n",
       "      <td>2602.0</td>\n",
       "      <td>1007</td>\n",
       "    </tr>\n",
       "    <tr>\n",
       "      <th>1</th>\n",
       "      <td>76866</td>\n",
       "      <td>Karnataka</td>\n",
       "      <td>BAGALKOT</td>\n",
       "      <td>1998</td>\n",
       "      <td>Kharif</td>\n",
       "      <td>Bajra</td>\n",
       "      <td>48855</td>\n",
       "      <td>302.553828</td>\n",
       "      <td>2.012944</td>\n",
       "      <td>1017.190269</td>\n",
       "      <td>64</td>\n",
       "      <td>peaty</td>\n",
       "      <td>6.440</td>\n",
       "      <td>6.440</td>\n",
       "      <td>0.000</td>\n",
       "      <td>52375.0</td>\n",
       "      <td>1006</td>\n",
       "    </tr>\n",
       "    <tr>\n",
       "      <th>2</th>\n",
       "      <td>76867</td>\n",
       "      <td>Karnataka</td>\n",
       "      <td>BAGALKOT</td>\n",
       "      <td>1998</td>\n",
       "      <td>Kharif</td>\n",
       "      <td>Castor seed</td>\n",
       "      <td>71</td>\n",
       "      <td>302.490677</td>\n",
       "      <td>2.497929</td>\n",
       "      <td>1015.286836</td>\n",
       "      <td>64</td>\n",
       "      <td>chalky</td>\n",
       "      <td>3.304</td>\n",
       "      <td>8.260</td>\n",
       "      <td>3.304</td>\n",
       "      <td>61.0</td>\n",
       "      <td>1007</td>\n",
       "    </tr>\n",
       "    <tr>\n",
       "      <th>3</th>\n",
       "      <td>76868</td>\n",
       "      <td>Karnataka</td>\n",
       "      <td>BAGALKOT</td>\n",
       "      <td>1998</td>\n",
       "      <td>Kharif</td>\n",
       "      <td>Cotton(lint)</td>\n",
       "      <td>15225</td>\n",
       "      <td>303.733295</td>\n",
       "      <td>2.487033</td>\n",
       "      <td>1014.263695</td>\n",
       "      <td>64</td>\n",
       "      <td>clay</td>\n",
       "      <td>0.152</td>\n",
       "      <td>0.152</td>\n",
       "      <td>0.152</td>\n",
       "      <td>22129.0</td>\n",
       "      <td>1005</td>\n",
       "    </tr>\n",
       "    <tr>\n",
       "      <th>4</th>\n",
       "      <td>76869</td>\n",
       "      <td>Karnataka</td>\n",
       "      <td>BAGALKOT</td>\n",
       "      <td>1998</td>\n",
       "      <td>Kharif</td>\n",
       "      <td>Groundnut</td>\n",
       "      <td>16368</td>\n",
       "      <td>301.910350</td>\n",
       "      <td>2.242010</td>\n",
       "      <td>1017.452448</td>\n",
       "      <td>63</td>\n",
       "      <td>chalky</td>\n",
       "      <td>4.000</td>\n",
       "      <td>5.000</td>\n",
       "      <td>0.000</td>\n",
       "      <td>7734.0</td>\n",
       "      <td>1005</td>\n",
       "    </tr>\n",
       "    <tr>\n",
       "      <th>...</th>\n",
       "      <td>...</td>\n",
       "      <td>...</td>\n",
       "      <td>...</td>\n",
       "      <td>...</td>\n",
       "      <td>...</td>\n",
       "      <td>...</td>\n",
       "      <td>...</td>\n",
       "      <td>...</td>\n",
       "      <td>...</td>\n",
       "      <td>...</td>\n",
       "      <td>...</td>\n",
       "      <td>...</td>\n",
       "      <td>...</td>\n",
       "      <td>...</td>\n",
       "      <td>...</td>\n",
       "      <td>...</td>\n",
       "      <td>...</td>\n",
       "    </tr>\n",
       "    <tr>\n",
       "      <th>21117</th>\n",
       "      <td>97982</td>\n",
       "      <td>Karnataka</td>\n",
       "      <td>YADGIR</td>\n",
       "      <td>2014</td>\n",
       "      <td>Summer</td>\n",
       "      <td>Rice</td>\n",
       "      <td>15205</td>\n",
       "      <td>302.303628</td>\n",
       "      <td>2.529410</td>\n",
       "      <td>1016.838988</td>\n",
       "      <td>71</td>\n",
       "      <td>clay</td>\n",
       "      <td>1.325</td>\n",
       "      <td>0.000</td>\n",
       "      <td>0.000</td>\n",
       "      <td>35029.0</td>\n",
       "      <td>1006</td>\n",
       "    </tr>\n",
       "    <tr>\n",
       "      <th>21118</th>\n",
       "      <td>97983</td>\n",
       "      <td>Karnataka</td>\n",
       "      <td>YADGIR</td>\n",
       "      <td>2014</td>\n",
       "      <td>Summer</td>\n",
       "      <td>Sunflower</td>\n",
       "      <td>14</td>\n",
       "      <td>302.886851</td>\n",
       "      <td>2.002156</td>\n",
       "      <td>1017.702519</td>\n",
       "      <td>70</td>\n",
       "      <td>loamy</td>\n",
       "      <td>5.980</td>\n",
       "      <td>5.980</td>\n",
       "      <td>0.000</td>\n",
       "      <td>5.0</td>\n",
       "      <td>1006</td>\n",
       "    </tr>\n",
       "    <tr>\n",
       "      <th>21119</th>\n",
       "      <td>97984</td>\n",
       "      <td>Karnataka</td>\n",
       "      <td>YADGIR</td>\n",
       "      <td>2014</td>\n",
       "      <td>Whole Year</td>\n",
       "      <td>Coconut</td>\n",
       "      <td>168</td>\n",
       "      <td>303.050650</td>\n",
       "      <td>2.229170</td>\n",
       "      <td>1017.205050</td>\n",
       "      <td>71</td>\n",
       "      <td>chalky</td>\n",
       "      <td>0.000</td>\n",
       "      <td>0.000</td>\n",
       "      <td>0.000</td>\n",
       "      <td>1499.0</td>\n",
       "      <td>1004</td>\n",
       "    </tr>\n",
       "    <tr>\n",
       "      <th>21120</th>\n",
       "      <td>97985</td>\n",
       "      <td>Karnataka</td>\n",
       "      <td>YADGIR</td>\n",
       "      <td>2014</td>\n",
       "      <td>Whole Year</td>\n",
       "      <td>Coriander</td>\n",
       "      <td>1</td>\n",
       "      <td>302.637341</td>\n",
       "      <td>2.315178</td>\n",
       "      <td>1014.029037</td>\n",
       "      <td>70</td>\n",
       "      <td>sandy</td>\n",
       "      <td>740.002</td>\n",
       "      <td>0.000</td>\n",
       "      <td>0.000</td>\n",
       "      <td>NaN</td>\n",
       "      <td>1006</td>\n",
       "    </tr>\n",
       "    <tr>\n",
       "      <th>21121</th>\n",
       "      <td>97986</td>\n",
       "      <td>Karnataka</td>\n",
       "      <td>YADGIR</td>\n",
       "      <td>2014</td>\n",
       "      <td>Whole Year</td>\n",
       "      <td>Sugarcane</td>\n",
       "      <td>862</td>\n",
       "      <td>302.957638</td>\n",
       "      <td>2.214874</td>\n",
       "      <td>1015.060439</td>\n",
       "      <td>72</td>\n",
       "      <td>clay</td>\n",
       "      <td>32.508</td>\n",
       "      <td>83.076</td>\n",
       "      <td>0.000</td>\n",
       "      <td>78614.0</td>\n",
       "      <td>1005</td>\n",
       "    </tr>\n",
       "  </tbody>\n",
       "</table>\n",
       "<p>21122 rows × 17 columns</p>\n",
       "</div>"
      ],
      "text/plain": [
       "       Unnamed: 0 state_names district_names  crop_year season_names  \\\n",
       "0           76865   Karnataka       BAGALKOT       1998  Kharif        \n",
       "1           76866   Karnataka       BAGALKOT       1998  Kharif        \n",
       "2           76867   Karnataka       BAGALKOT       1998  Kharif        \n",
       "3           76868   Karnataka       BAGALKOT       1998  Kharif        \n",
       "4           76869   Karnataka       BAGALKOT       1998  Kharif        \n",
       "...           ...         ...            ...        ...          ...   \n",
       "21117       97982   Karnataka         YADGIR       2014  Summer        \n",
       "21118       97983   Karnataka         YADGIR       2014  Summer        \n",
       "21119       97984   Karnataka         YADGIR       2014  Whole Year    \n",
       "21120       97985   Karnataka         YADGIR       2014  Whole Year    \n",
       "21121       97986   Karnataka         YADGIR       2014  Whole Year    \n",
       "\n",
       "         crop_names   area  temperature  wind_speed  precipitation  humidity  \\\n",
       "0         Arhar/Tur   6154   301.802223    2.327734    1018.003584        63   \n",
       "1             Bajra  48855   302.553828    2.012944    1017.190269        64   \n",
       "2       Castor seed     71   302.490677    2.497929    1015.286836        64   \n",
       "3      Cotton(lint)  15225   303.733295    2.487033    1014.263695        64   \n",
       "4         Groundnut  16368   301.910350    2.242010    1017.452448        63   \n",
       "...             ...    ...          ...         ...            ...       ...   \n",
       "21117          Rice  15205   302.303628    2.529410    1016.838988        71   \n",
       "21118     Sunflower     14   302.886851    2.002156    1017.702519        70   \n",
       "21119      Coconut     168   303.050650    2.229170    1017.205050        71   \n",
       "21120     Coriander      1   302.637341    2.315178    1014.029037        70   \n",
       "21121     Sugarcane    862   302.957638    2.214874    1015.060439        72   \n",
       "\n",
       "      soil_type        N       P       K  production  pressure  \n",
       "0          silt   16.008  42.688  21.344      2602.0      1007  \n",
       "1         peaty    6.440   6.440   0.000     52375.0      1006  \n",
       "2        chalky    3.304   8.260   3.304        61.0      1007  \n",
       "3          clay    0.152   0.152   0.152     22129.0      1005  \n",
       "4        chalky    4.000   5.000   0.000      7734.0      1005  \n",
       "...         ...      ...     ...     ...         ...       ...  \n",
       "21117      clay    1.325   0.000   0.000     35029.0      1006  \n",
       "21118     loamy    5.980   5.980   0.000         5.0      1006  \n",
       "21119    chalky    0.000   0.000   0.000      1499.0      1004  \n",
       "21120     sandy  740.002   0.000   0.000         NaN      1006  \n",
       "21121      clay   32.508  83.076   0.000     78614.0      1005  \n",
       "\n",
       "[21122 rows x 17 columns]"
      ]
     },
     "execution_count": 8,
     "metadata": {},
     "output_type": "execute_result"
    }
   ],
   "source": [
    "df"
   ]
  },
  {
   "cell_type": "code",
   "execution_count": 9,
   "metadata": {},
   "outputs": [],
   "source": [
    "import seaborn as sns\n"
   ]
  },
  {
   "cell_type": "code",
   "execution_count": null,
   "metadata": {},
   "outputs": [],
   "source": [
    "sns.relplot(x=\"area\", y=\"production\" ,data=df,kind=\"line\");"
   ]
  },
  {
   "cell_type": "code",
   "execution_count": null,
   "metadata": {},
   "outputs": [],
   "source": [
    "#graphical analysis\n",
    "sns.relplot(x=\"area\", y=\"production\", hue=\"district_names\",style=\"season_names\", data=df);"
   ]
  },
  {
   "cell_type": "code",
   "execution_count": null,
   "metadata": {},
   "outputs": [],
   "source": [
    "sns.relplot(x=\"temperature\", y=\"production\",  hue=\"district_names\",style=\"season_names\",data=df);"
   ]
  },
  {
   "cell_type": "code",
   "execution_count": null,
   "metadata": {},
   "outputs": [],
   "source": [
    "sns.relplot(x=\"humidity\", y=\"production\", hue=\"district_names\",style=\"season_names\", data=df);"
   ]
  },
  {
   "cell_type": "code",
   "execution_count": null,
   "metadata": {},
   "outputs": [],
   "source": [
    "sns.relplot(x=\"pressure\", y=\"production\",  hue=\"district_names\",style=\"season_names\", data=df);"
   ]
  },
  {
   "cell_type": "code",
   "execution_count": null,
   "metadata": {},
   "outputs": [],
   "source": [
    "sns.relplot(x=\"season_names\", y=\"production\",  hue=\"district_names\",style=\"season_names\", data=df);"
   ]
  },
  {
   "cell_type": "code",
   "execution_count": null,
   "metadata": {},
   "outputs": [],
   "source": []
  },
  {
   "cell_type": "code",
   "execution_count": null,
   "metadata": {},
   "outputs": [],
   "source": []
  },
  {
   "cell_type": "code",
   "execution_count": null,
   "metadata": {},
   "outputs": [],
   "source": []
  },
  {
   "cell_type": "code",
   "execution_count": null,
   "metadata": {},
   "outputs": [],
   "source": []
  },
  {
   "cell_type": "code",
   "execution_count": null,
   "metadata": {},
   "outputs": [],
   "source": []
  },
  {
   "cell_type": "code",
   "execution_count": null,
   "metadata": {},
   "outputs": [],
   "source": []
  },
  {
   "cell_type": "code",
   "execution_count": null,
   "metadata": {},
   "outputs": [],
   "source": []
  },
  {
   "cell_type": "code",
   "execution_count": null,
   "metadata": {},
   "outputs": [],
   "source": []
  },
  {
   "cell_type": "markdown",
   "metadata": {
    "colab_type": "text",
    "id": "QvYtwmfjTkrM"
   },
   "source": [
    "##Corelation Heatmap"
   ]
  },
  {
   "cell_type": "code",
   "execution_count": null,
   "metadata": {
    "colab": {
     "base_uri": "https://localhost:8080/",
     "height": 846
    },
    "colab_type": "code",
    "id": "-_tEdzxdTp-S",
    "outputId": "f45aaac2-cdff-426b-cb14-e98cdf332dbf"
   },
   "outputs": [],
   "source": [
    "import matplotlib.pyplot as plt\n",
    "import seaborn as sb\n",
    "\n",
    "C_mat = df.corr()\n",
    "fig = plt.figure(figsize = (15,15))\n",
    "\n",
    "sb.heatmap(C_mat, vmax = .8, square = True)\n",
    "plt.show()"
   ]
  },
  {
   "cell_type": "markdown",
   "metadata": {
    "colab_type": "text",
    "id": "UHRkVfi_PHhs"
   },
   "source": [
    "##Taking Data only after 2004 because the data after 2004 is affecting the rersult alot"
   ]
  },
  {
   "cell_type": "code",
   "execution_count": null,
   "metadata": {
    "colab": {
     "base_uri": "https://localhost:8080/",
     "height": 424
    },
    "colab_type": "code",
    "id": "wCUwyNu0P1PT",
    "outputId": "e0a521e8-cfd6-47c4-a4ee-f37d74a5bb45"
   },
   "outputs": [],
   "source": [
    "#df = df[df['crop_year']>=2004]\n",
    "#df"
   ]
  },
  {
   "cell_type": "code",
   "execution_count": null,
   "metadata": {},
   "outputs": [],
   "source": [
    "df.info()"
   ]
  },
  {
   "cell_type": "markdown",
   "metadata": {
    "colab_type": "text",
    "id": "iUgVdhZbPPT9"
   },
   "source": [
    "##converting data to numerical form"
   ]
  },
  {
   "cell_type": "code",
   "execution_count": null,
   "metadata": {
    "colab": {
     "base_uri": "https://localhost:8080/",
     "height": 652
    },
    "colab_type": "code",
    "id": "H-hIlC4QdzL0",
    "outputId": "529ba42f-e752-43e5-ffaa-ab1333fb0873"
   },
   "outputs": [],
   "source": [
    "df = df.join(pd.get_dummies(df['district_names']))\n",
    "df = df.join(pd.get_dummies(df['season_names']))\n",
    "df = df.join(pd.get_dummies(df['crop_names']))\n",
    "df = df.join(pd.get_dummies(df['state_names']))\n",
    "df = df.join(pd.get_dummies(df['soil_type']))\n",
    "df"
   ]
  },
  {
   "cell_type": "code",
   "execution_count": null,
   "metadata": {},
   "outputs": [],
   "source": [
    "df['Yield'] = df['production']/df['area']\n",
    "df"
   ]
  },
  {
   "cell_type": "code",
   "execution_count": null,
   "metadata": {},
   "outputs": [],
   "source": [
    "df = df.drop('production', axis=1)"
   ]
  },
  {
   "cell_type": "markdown",
   "metadata": {
    "colab_type": "text",
    "id": "flKfKKBEQu5C"
   },
   "source": [
    "##Dropping Unecessory Columns"
   ]
  },
  {
   "cell_type": "code",
   "execution_count": null,
   "metadata": {
    "colab": {
     "base_uri": "https://localhost:8080/",
     "height": 478
    },
    "colab_type": "code",
    "id": "9xsE8Fc_fcmn",
    "outputId": "17787537-4f56-4941-b65d-6242e8769849"
   },
   "outputs": [],
   "source": [
    "df=df.drop('district_names', axis=1)\n",
    "df = df.drop('season_names',axis=1)\n",
    "df = df.drop('crop_names',axis=1)\n",
    "\n",
    "\n"
   ]
  },
  {
   "cell_type": "code",
   "execution_count": null,
   "metadata": {},
   "outputs": [],
   "source": [
    "df = df.drop('state_names', axis=1)\n",
    "df = df.drop('soil_type', axis=1)\n",
    "df"
   ]
  },
  {
   "cell_type": "markdown",
   "metadata": {
    "colab_type": "text",
    "id": "crrFiBFiSBKm"
   },
   "source": [
    "##Preprocessing"
   ]
  },
  {
   "cell_type": "code",
   "execution_count": null,
   "metadata": {
    "colab": {},
    "colab_type": "code",
    "id": "-ZH0L36cnnEN"
   },
   "outputs": [],
   "source": [
    "from sklearn import preprocessing"
   ]
  },
  {
   "cell_type": "code",
   "execution_count": null,
   "metadata": {
    "colab": {
     "base_uri": "https://localhost:8080/",
     "height": 478
    },
    "colab_type": "code",
    "id": "P8zJezCGrrpZ",
    "outputId": "0cb79961-ad1b-40c8-b3c7-9bdf4390a695"
   },
   "outputs": [],
   "source": [
    "\n",
    "# Create x, where x the 'scores' column's values as floats\n",
    "x = df[['area']].values.astype(float)\n",
    "x\n",
    "# Create a minimum and maximum processor object\n",
    "min_max_scaler = preprocessing.MinMaxScaler()\n",
    "\n",
    "# Create an object to transform the data to fit minmax processor\n",
    "x_scaled = min_max_scaler.fit_transform(x)\n",
    "\n",
    "# Run the normalizer on the dataframe\n",
    "#df_normalized = pd.DataFrame(x_scaled)\n",
    "x_scaled\n",
    "\n",
    "df['area'] = x_scaled\n",
    "df"
   ]
  },
  {
   "cell_type": "code",
   "execution_count": null,
   "metadata": {
    "colab": {
     "base_uri": "https://localhost:8080/",
     "height": 290
    },
    "colab_type": "code",
    "id": "vmZc51COtbDn",
    "outputId": "d2ca8412-4bd8-4357-e798-c01b0219129c"
   },
   "outputs": [],
   "source": [
    "df.head()"
   ]
  },
  {
   "cell_type": "markdown",
   "metadata": {
    "colab_type": "text",
    "id": "BMscPX_kSGi0"
   },
   "source": [
    "### Filling Empty Values With Mean"
   ]
  },
  {
   "cell_type": "code",
   "execution_count": null,
   "metadata": {
    "colab": {},
    "colab_type": "code",
    "id": "wOtumEE7wZGa"
   },
   "outputs": [],
   "source": [
    "df = df.fillna(df.mean())"
   ]
  },
  {
   "cell_type": "markdown",
   "metadata": {
    "colab_type": "text",
    "id": "yl0n3RLpSUY3"
   },
   "source": [
    "##Train and Test Split"
   ]
  },
  {
   "cell_type": "code",
   "execution_count": 75,
   "metadata": {
    "colab": {},
    "colab_type": "code",
    "id": "gGelSEtavZ_U"
   },
   "outputs": [],
   "source": [
    "from sklearn.model_selection import train_test_split"
   ]
  },
  {
   "cell_type": "code",
   "execution_count": 76,
   "metadata": {},
   "outputs": [],
   "source": [
    "a=df"
   ]
  },
  {
   "cell_type": "code",
   "execution_count": 77,
   "metadata": {
    "colab": {
     "base_uri": "https://localhost:8080/",
     "height": 982
    },
    "colab_type": "code",
    "id": "qWb477Osxmw1",
    "outputId": "b8b46b4e-717a-4d6f-e1c1-f754765ecc64"
   },
   "outputs": [],
   "source": [
    "b = df['Yield']\n",
    "#a = df.drop('Yield', axis = 1)\n",
    "\n"
   ]
  },
  {
   "cell_type": "code",
   "execution_count": 78,
   "metadata": {},
   "outputs": [],
   "source": [
    "c = df.drop('Unnamed: 0', axis = 1)"
   ]
  },
  {
   "cell_type": "code",
   "execution_count": null,
   "metadata": {},
   "outputs": [],
   "source": []
  },
  {
   "cell_type": "code",
   "execution_count": 79,
   "metadata": {},
   "outputs": [],
   "source": [
    "a=c.drop('Yield', axis = 1)"
   ]
  },
  {
   "cell_type": "code",
   "execution_count": 80,
   "metadata": {},
   "outputs": [
    {
     "data": {
      "text/plain": [
       "111"
      ]
     },
     "execution_count": 80,
     "metadata": {},
     "output_type": "execute_result"
    }
   ],
   "source": [
    "len(a.columns)"
   ]
  },
  {
   "cell_type": "code",
   "execution_count": 81,
   "metadata": {},
   "outputs": [
    {
     "data": {
      "text/plain": [
       "Index(['crop_year', 'area', 'temperature', 'wind_speed', 'precipitation',\n",
       "       'humidity', 'N', 'P', 'K', 'pressure',\n",
       "       ...\n",
       "       'Urad', 'Wheat', 'Karnataka', 'chalky', 'clay', 'loamy', 'peaty',\n",
       "       'sandy', 'silt', 'silty'],\n",
       "      dtype='object', length=111)"
      ]
     },
     "execution_count": 81,
     "metadata": {},
     "output_type": "execute_result"
    }
   ],
   "source": [
    "a.columns"
   ]
  },
  {
   "cell_type": "code",
   "execution_count": 82,
   "metadata": {},
   "outputs": [],
   "source": [
    "features_list=['crop_year', 'area', 'temperature', 'wind_speed', 'precipitation',\n",
    "       'humidity', 'N', 'P', 'K', 'pressure', 'BAGALKOT', 'BANGALORE RURAL',\n",
    "       'BELGAUM', 'BELLARY', 'BENGALURU URBAN', 'BIDAR', 'BIJAPUR',\n",
    "       'CHAMARAJANAGAR', 'CHIKBALLAPUR', 'CHIKMAGALUR', 'CHITRADURGA',\n",
    "       'DAKSHIN KANNAD', 'DAVANGERE', 'DHARWAD', 'GADAG', 'GULBARGA', 'HASSAN',\n",
    "       'HAVERI', 'KODAGU', 'KOLAR', 'KOPPAL', 'MANDYA', 'MYSORE', 'RAICHUR',\n",
    "       'RAMANAGARA', 'SHIMOGA', 'TUMKUR', 'UDUPI', 'UTTAR KANNAD', 'YADGIR',\n",
    "       'Kharif     ', 'Rabi       ', 'Summer     ', 'Whole Year ', 'Arecanut',\n",
    "       'Arhar/Tur', 'Bajra', 'Banana', 'Black pepper', 'Cardamom', 'Cashewnut',\n",
    "       'Castor seed', 'Coconut ', 'Coriander', 'Cotton(lint)', 'Cowpea(Lobia)',\n",
    "       'Dry chillies', 'Dry ginger', 'Garlic', 'Gram', 'Groundnut',\n",
    "       'Horse-gram', 'Jowar', 'Linseed', 'Maize', 'Mesta', 'Moong(Green Gram)',\n",
    "       'Niger seed', 'Onion', 'Other  Rabi pulses', 'Other Kharif pulses',\n",
    "       'Peas & beans (Pulses)', 'Potato', 'Ragi', 'Rapeseed &Mustard', 'Rice',\n",
    "       'Safflower', 'Sannhamp', 'Sesamum', 'Small millets', 'Soyabean',\n",
    "       'Sugarcane', 'Sunflower', 'Sweet potato', 'Tapioca', 'Tobacco',\n",
    "       'Turmeric', 'Urad', 'Wheat', 'Karnataka', 'chalky', 'clay', 'loamy',\n",
    "       'peaty', 'sandy', 'silt', 'silty']"
   ]
  },
  {
   "cell_type": "code",
   "execution_count": 83,
   "metadata": {},
   "outputs": [
    {
     "data": {
      "text/plain": [
       "97"
      ]
     },
     "execution_count": 83,
     "metadata": {},
     "output_type": "execute_result"
    }
   ],
   "source": [
    "len(features_list)"
   ]
  },
  {
   "cell_type": "code",
   "execution_count": 84,
   "metadata": {},
   "outputs": [
    {
     "data": {
      "text/plain": [
       "97"
      ]
     },
     "execution_count": 84,
     "metadata": {},
     "output_type": "execute_result"
    }
   ],
   "source": [
    "features_list123=[0, 0, 0, 0, 0, 0, 0, 0, 0, 0, 0, 0, 0, 0, 0, 0, 0, 0, 0, 0, 0, 0, 0, 0, 0, 0, 0, 0, 0, 0, 0, 0, 0, 0, 0, 0, 0, 0, 0, 0, 0, 0, 0, 0, 0, 0, 0, 0, 0, 0, 0, 0, 0, 0, 0, 0, 0, 0, 0, 0, 0, 0, 0, 0, 0, 0, 0, 0, 0, 0, 0, 0, 0, 0, 0, 0, 0, 0, 0, 0, 0,0,0,0,0,0,0,0,0,0,0,0,0,0,0,0,0]\n",
    "\n",
    "len(features_list123)"
   ]
  },
  {
   "cell_type": "code",
   "execution_count": 85,
   "metadata": {},
   "outputs": [
    {
     "data": {
      "text/plain": [
       "97"
      ]
     },
     "execution_count": 85,
     "metadata": {},
     "output_type": "execute_result"
    }
   ],
   "source": [
    "len(features_list)"
   ]
  },
  {
   "cell_type": "code",
   "execution_count": 86,
   "metadata": {},
   "outputs": [],
   "source": [
    "a=df[features_list]"
   ]
  },
  {
   "cell_type": "code",
   "execution_count": 87,
   "metadata": {},
   "outputs": [
    {
     "data": {
      "text/html": [
       "<div>\n",
       "<style scoped>\n",
       "    .dataframe tbody tr th:only-of-type {\n",
       "        vertical-align: middle;\n",
       "    }\n",
       "\n",
       "    .dataframe tbody tr th {\n",
       "        vertical-align: top;\n",
       "    }\n",
       "\n",
       "    .dataframe thead th {\n",
       "        text-align: right;\n",
       "    }\n",
       "</style>\n",
       "<table border=\"1\" class=\"dataframe\">\n",
       "  <thead>\n",
       "    <tr style=\"text-align: right;\">\n",
       "      <th></th>\n",
       "      <th>crop_year</th>\n",
       "      <th>area</th>\n",
       "      <th>temperature</th>\n",
       "      <th>wind_speed</th>\n",
       "      <th>precipitation</th>\n",
       "      <th>humidity</th>\n",
       "      <th>N</th>\n",
       "      <th>P</th>\n",
       "      <th>K</th>\n",
       "      <th>pressure</th>\n",
       "      <th>...</th>\n",
       "      <th>Urad</th>\n",
       "      <th>Wheat</th>\n",
       "      <th>Karnataka</th>\n",
       "      <th>chalky</th>\n",
       "      <th>clay</th>\n",
       "      <th>loamy</th>\n",
       "      <th>peaty</th>\n",
       "      <th>sandy</th>\n",
       "      <th>silt</th>\n",
       "      <th>silty</th>\n",
       "    </tr>\n",
       "  </thead>\n",
       "  <tbody>\n",
       "    <tr>\n",
       "      <th>0</th>\n",
       "      <td>1998</td>\n",
       "      <td>0.012048</td>\n",
       "      <td>301.802223</td>\n",
       "      <td>2.327734</td>\n",
       "      <td>1018.003584</td>\n",
       "      <td>63</td>\n",
       "      <td>16.008</td>\n",
       "      <td>42.688</td>\n",
       "      <td>21.344</td>\n",
       "      <td>1007</td>\n",
       "      <td>...</td>\n",
       "      <td>0</td>\n",
       "      <td>0</td>\n",
       "      <td>1</td>\n",
       "      <td>0</td>\n",
       "      <td>0</td>\n",
       "      <td>0</td>\n",
       "      <td>0</td>\n",
       "      <td>0</td>\n",
       "      <td>1</td>\n",
       "      <td>0</td>\n",
       "    </tr>\n",
       "    <tr>\n",
       "      <th>1</th>\n",
       "      <td>1998</td>\n",
       "      <td>0.095663</td>\n",
       "      <td>302.553828</td>\n",
       "      <td>2.012944</td>\n",
       "      <td>1017.190269</td>\n",
       "      <td>64</td>\n",
       "      <td>6.440</td>\n",
       "      <td>6.440</td>\n",
       "      <td>0.000</td>\n",
       "      <td>1006</td>\n",
       "      <td>...</td>\n",
       "      <td>0</td>\n",
       "      <td>0</td>\n",
       "      <td>1</td>\n",
       "      <td>0</td>\n",
       "      <td>0</td>\n",
       "      <td>0</td>\n",
       "      <td>1</td>\n",
       "      <td>0</td>\n",
       "      <td>0</td>\n",
       "      <td>0</td>\n",
       "    </tr>\n",
       "    <tr>\n",
       "      <th>2</th>\n",
       "      <td>1998</td>\n",
       "      <td>0.000137</td>\n",
       "      <td>302.490677</td>\n",
       "      <td>2.497929</td>\n",
       "      <td>1015.286836</td>\n",
       "      <td>64</td>\n",
       "      <td>3.304</td>\n",
       "      <td>8.260</td>\n",
       "      <td>3.304</td>\n",
       "      <td>1007</td>\n",
       "      <td>...</td>\n",
       "      <td>0</td>\n",
       "      <td>0</td>\n",
       "      <td>1</td>\n",
       "      <td>1</td>\n",
       "      <td>0</td>\n",
       "      <td>0</td>\n",
       "      <td>0</td>\n",
       "      <td>0</td>\n",
       "      <td>0</td>\n",
       "      <td>0</td>\n",
       "    </tr>\n",
       "    <tr>\n",
       "      <th>3</th>\n",
       "      <td>1998</td>\n",
       "      <td>0.029811</td>\n",
       "      <td>303.733295</td>\n",
       "      <td>2.487033</td>\n",
       "      <td>1014.263695</td>\n",
       "      <td>64</td>\n",
       "      <td>0.152</td>\n",
       "      <td>0.152</td>\n",
       "      <td>0.152</td>\n",
       "      <td>1005</td>\n",
       "      <td>...</td>\n",
       "      <td>0</td>\n",
       "      <td>0</td>\n",
       "      <td>1</td>\n",
       "      <td>0</td>\n",
       "      <td>1</td>\n",
       "      <td>0</td>\n",
       "      <td>0</td>\n",
       "      <td>0</td>\n",
       "      <td>0</td>\n",
       "      <td>0</td>\n",
       "    </tr>\n",
       "    <tr>\n",
       "      <th>4</th>\n",
       "      <td>1998</td>\n",
       "      <td>0.032049</td>\n",
       "      <td>301.910350</td>\n",
       "      <td>2.242010</td>\n",
       "      <td>1017.452448</td>\n",
       "      <td>63</td>\n",
       "      <td>4.000</td>\n",
       "      <td>5.000</td>\n",
       "      <td>0.000</td>\n",
       "      <td>1005</td>\n",
       "      <td>...</td>\n",
       "      <td>0</td>\n",
       "      <td>0</td>\n",
       "      <td>1</td>\n",
       "      <td>1</td>\n",
       "      <td>0</td>\n",
       "      <td>0</td>\n",
       "      <td>0</td>\n",
       "      <td>0</td>\n",
       "      <td>0</td>\n",
       "      <td>0</td>\n",
       "    </tr>\n",
       "  </tbody>\n",
       "</table>\n",
       "<p>5 rows × 97 columns</p>\n",
       "</div>"
      ],
      "text/plain": [
       "   crop_year      area  temperature  wind_speed  precipitation  humidity  \\\n",
       "0       1998  0.012048   301.802223    2.327734    1018.003584        63   \n",
       "1       1998  0.095663   302.553828    2.012944    1017.190269        64   \n",
       "2       1998  0.000137   302.490677    2.497929    1015.286836        64   \n",
       "3       1998  0.029811   303.733295    2.487033    1014.263695        64   \n",
       "4       1998  0.032049   301.910350    2.242010    1017.452448        63   \n",
       "\n",
       "        N       P       K  pressure  ...  Urad  Wheat  Karnataka  chalky  \\\n",
       "0  16.008  42.688  21.344      1007  ...     0      0          1       0   \n",
       "1   6.440   6.440   0.000      1006  ...     0      0          1       0   \n",
       "2   3.304   8.260   3.304      1007  ...     0      0          1       1   \n",
       "3   0.152   0.152   0.152      1005  ...     0      0          1       0   \n",
       "4   4.000   5.000   0.000      1005  ...     0      0          1       1   \n",
       "\n",
       "   clay  loamy  peaty  sandy  silt  silty  \n",
       "0     0      0      0      0     1      0  \n",
       "1     0      0      1      0     0      0  \n",
       "2     0      0      0      0     0      0  \n",
       "3     1      0      0      0     0      0  \n",
       "4     0      0      0      0     0      0  \n",
       "\n",
       "[5 rows x 97 columns]"
      ]
     },
     "execution_count": 87,
     "metadata": {},
     "output_type": "execute_result"
    }
   ],
   "source": [
    "a.head()"
   ]
  },
  {
   "cell_type": "code",
   "execution_count": 88,
   "metadata": {},
   "outputs": [
    {
     "name": "stdout",
     "output_type": "stream",
     "text": [
      "       crop_year      area  temperature  wind_speed  precipitation  humidity  \\\n",
      "245         2003  0.003579   302.423710    2.543385    1017.486774        63   \n",
      "20179       2012  0.034436   303.594354    2.115594    1017.274016        80   \n",
      "20046       2007  0.000362   303.298670    2.564392    1015.025628        80   \n",
      "157         2002  0.011199   302.406142    2.621096    1017.660073        64   \n",
      "20339       2000  0.000043   296.394420    2.435588    1014.175732        56   \n",
      "...          ...       ...          ...         ...            ...       ...   \n",
      "11284       2000  0.000063   301.282720    2.959134    1014.119469        75   \n",
      "11964       2014  0.008673   301.717789    2.371770    1016.467080        75   \n",
      "5390        2012  0.000127   301.624694    2.331104    1015.449916        71   \n",
      "860         2000  0.003660   301.086595    2.510115    1016.384642        57   \n",
      "15795       2004  0.000002   299.209889    2.200630    1015.427704        58   \n",
      "\n",
      "            N        P       K  pressure  ...  Urad  Wheat  Karnataka  chalky  \\\n",
      "245     2.921    2.921   0.000      1005  ...     0      0          1       0   \n",
      "20179   3.450    3.450   0.000      1010  ...     0      0          1       0   \n",
      "20046  37.704  100.544  50.272      1008  ...     0      0          1       0   \n",
      "157     0.000    5.184   0.000      1007  ...     0      0          1       0   \n",
      "20339   0.000    0.000   0.000      1004  ...     0      0          1       0   \n",
      "...       ...      ...     ...       ...  ...   ...    ...        ...     ...   \n",
      "11284   2.800    3.500   0.000      1004  ...     0      0          1       0   \n",
      "11964  39.720  105.920  52.960      1005  ...     0      0          1       0   \n",
      "5390   38.250   38.250  38.250      1004  ...     0      0          1       0   \n",
      "860     8.876    8.876   0.000      1008  ...     0      0          1       0   \n",
      "15795  38.250   38.250  38.250      1009  ...     0      0          1       0   \n",
      "\n",
      "       clay  loamy  peaty  sandy  silt  silty  \n",
      "245       0      0      0      0     0      1  \n",
      "20179     0      0      1      0     0      0  \n",
      "20046     0      0      0      1     0      0  \n",
      "157       0      0      0      1     0      0  \n",
      "20339     0      0      1      0     0      0  \n",
      "...     ...    ...    ...    ...   ...    ...  \n",
      "11284     0      0      0      1     0      0  \n",
      "11964     0      0      1      0     0      0  \n",
      "5390      0      1      0      0     0      0  \n",
      "860       0      1      0      0     0      0  \n",
      "15795     0      0      1      0     0      0  \n",
      "\n",
      "[14785 rows x 97 columns]\n",
      "       crop_year      area  temperature  wind_speed  precipitation  humidity  \\\n",
      "7093        2006  0.003959   298.103934    2.723962    1014.910561        82   \n",
      "4707        2013  0.070211   300.099714    2.274408    1017.078717        81   \n",
      "482         2009  0.002434   302.535117    2.643150    1014.439569        64   \n",
      "6239        2013  0.030369   294.523108    2.649175    1014.556387        52   \n",
      "14572       2008  0.000076   301.642401    2.712562    1016.803265        57   \n",
      "...          ...       ...          ...         ...            ...       ...   \n",
      "10676       2004  0.002465   301.139560    2.783549    1016.454068        69   \n",
      "10039       2007  0.007286   299.174424    2.364559    1015.846900        89   \n",
      "3824        2010  0.000497   301.849440    2.482321    1015.259745        66   \n",
      "15630       2001  0.003771   300.476334    2.134797    1016.460163        59   \n",
      "11187       1998  0.115731   300.909406    2.175752    1017.489729        77   \n",
      "\n",
      "            N        P       K  pressure  ...  Urad  Wheat  Karnataka  chalky  \\\n",
      "7093   38.250   38.250  38.250      1011  ...     0      0          1       0   \n",
      "4707    0.000    5.184   0.000      1004  ...     0      0          1       0   \n",
      "482     0.224    0.280   0.000      1005  ...     0      0          1       0   \n",
      "6239    1.288    3.220   1.288      1004  ...     0      0          1       0   \n",
      "14572  10.240   26.624  26.624      1009  ...     0      0          1       0   \n",
      "...       ...      ...     ...       ...  ...   ...    ...        ...     ...   \n",
      "10676   6.440    6.440   0.000      1007  ...     0      0          1       0   \n",
      "10039  39.720  105.920  52.960      1009  ...     0      0          1       0   \n",
      "3824    3.496    3.496   0.000      1003  ...     0      0          1       0   \n",
      "15630   0.000    0.000   0.000      1009  ...     0      0          1       0   \n",
      "11187   0.000    0.000   0.000      1005  ...     0      0          1       0   \n",
      "\n",
      "       clay  loamy  peaty  sandy  silt  silty  \n",
      "7093      1      0      0      0     0      0  \n",
      "4707      0      0      1      0     0      0  \n",
      "482       0      0      0      0     1      0  \n",
      "6239      1      0      0      0     0      0  \n",
      "14572     0      1      0      0     0      0  \n",
      "...     ...    ...    ...    ...   ...    ...  \n",
      "10676     0      0      0      0     1      0  \n",
      "10039     0      0      0      0     0      1  \n",
      "3824      0      0      0      1     0      0  \n",
      "15630     1      0      0      0     0      0  \n",
      "11187     1      0      0      0     0      0  \n",
      "\n",
      "[6337 rows x 97 columns]\n",
      "245      42.927829\n",
      "20179     9.806960\n",
      "20046     1.747312\n",
      "157       0.335664\n",
      "20339     0.347826\n",
      "           ...    \n",
      "11284     1.030303\n",
      "11964     0.513995\n",
      "5390      0.136364\n",
      "860      15.657754\n",
      "15795     2.500000\n",
      "Name: Yield, Length: 14785, dtype: float64\n",
      "7093      1.100840\n",
      "4707      0.426555\n",
      "482       0.381029\n",
      "6239      0.891103\n",
      "14572     0.575000\n",
      "           ...    \n",
      "10676     3.045238\n",
      "10039    64.599946\n",
      "3824     33.521569\n",
      "15630     0.530877\n",
      "11187     0.338200\n",
      "Name: Yield, Length: 6337, dtype: float64\n"
     ]
    }
   ],
   "source": [
    "a_train, a_test, b_train, b_test = train_test_split(a, b, test_size = 0.3, random_state = 42)\n",
    "\n",
    "print(a_train)\n",
    "print(a_test)\n",
    "print(b_train)\n",
    "print(b_test)"
   ]
  },
  {
   "cell_type": "code",
   "execution_count": 89,
   "metadata": {
    "colab": {},
    "colab_type": "code",
    "id": "nqx2dijEzIeK"
   },
   "outputs": [],
   "source": [
    "import numpy as np  \n",
    "import matplotlib.pyplot as plt  \n",
    "import seaborn as seabornInstance \n",
    "from sklearn.linear_model import LinearRegression\n",
    "from sklearn import metrics\n",
    "%matplotlib inline"
   ]
  },
  {
   "cell_type": "code",
   "execution_count": 90,
   "metadata": {
    "colab": {},
    "colab_type": "code",
    "id": "6HHemLU20qxI"
   },
   "outputs": [],
   "source": [
    "from sklearn.preprocessing import StandardScaler\n",
    "sc = StandardScaler()\n",
    "a_train = sc.fit_transform(a_train)\n",
    "a_test = sc.transform(a_test)"
   ]
  },
  {
   "cell_type": "markdown",
   "metadata": {
    "colab_type": "text",
    "id": "BbUw1P-aiwBg"
   },
   "source": [
    "###Random Forest Regressor"
   ]
  },
  {
   "cell_type": "code",
   "execution_count": 103,
   "metadata": {
    "colab": {
     "base_uri": "https://localhost:8080/",
     "height": 73
    },
    "colab_type": "code",
    "id": "cnCF9S0K03gI",
    "outputId": "9ba85e05-91e5-4885-d097-d3a1f5492e3b"
   },
   "outputs": [
    {
     "name": "stdout",
     "output_type": "stream",
     "text": [
      "MSE = 6.957728795717889\n",
      "MAE = 0.8398564630665664\n",
      "R2 Score = 0.9594741437128254\n"
     ]
    }
   ],
   "source": [
    "   from sklearn.ensemble import RandomForestRegressor\n",
    "   regr = RandomForestRegressor(max_depth=20, random_state=45, n_estimators=200)\n",
    "   regr.fit(a_train, b_train)\n",
    "   b_pred = regr.predict(a_test)\n",
    "\n",
    "   from sklearn.metrics import mean_squared_error as mse\n",
    "   from sklearn.metrics import mean_absolute_error as mae\n",
    "   from sklearn.metrics import r2_score\n",
    "\n",
    "   print('MSE =', mse(b_pred, b_test))\n",
    "   print('MAE =', mae(b_pred, b_test))\n",
    "   print('R2 Score =', r2_score(b_pred, b_test))"
   ]
  },
  {
   "cell_type": "code",
   "execution_count": null,
   "metadata": {},
   "outputs": [],
   "source": []
  },
  {
   "cell_type": "code",
   "execution_count": null,
   "metadata": {},
   "outputs": [],
   "source": []
  },
  {
   "cell_type": "markdown",
   "metadata": {
    "colab_type": "text",
    "id": "9z-PKTBBirP1"
   },
   "source": [
    "###Polynomial Support Vector Machine"
   ]
  },
  {
   "cell_type": "code",
   "execution_count": 104,
   "metadata": {
    "colab": {
     "base_uri": "https://localhost:8080/",
     "height": 111
    },
    "colab_type": "code",
    "id": "zURtx4kAPLTr",
    "outputId": "75a85738-343e-4859-93ce-89cbf8e7349b"
   },
   "outputs": [
    {
     "name": "stdout",
     "output_type": "stream",
     "text": [
      "0.8089838019688501\n",
      "0.9623575914308666\n"
     ]
    }
   ],
   "source": [
    "from sklearn.svm import SVR\n",
    "regressorpoly=SVR(kernel='poly',epsilon=1.0)\n",
    "regressorpoly.fit(a_train,b_train)\n",
    "pred=regressorpoly.predict(a_test)\n",
    "print(regressorpoly.score(a_test,b_test))\n",
    "print(r2_score(b_test,b_pred))"
   ]
  },
  {
   "cell_type": "markdown",
   "metadata": {
    "colab_type": "text",
    "id": "fGc_78_him91"
   },
   "source": [
    "###XGBRegressor"
   ]
  },
  {
   "cell_type": "code",
   "execution_count": 105,
   "metadata": {
    "colab": {
     "base_uri": "https://localhost:8080/",
     "height": 148
    },
    "colab_type": "code",
    "id": "qZAULbjvigKN",
    "outputId": "5297980f-a6b6-43f8-df12-5bd953d23ba5"
   },
   "outputs": [
    {
     "name": "stdout",
     "output_type": "stream",
     "text": [
      "XGBoost validation MAE =  0.9918159863336751\n"
     ]
    },
    {
     "data": {
      "text/plain": [
       "array([ 1.3160847 ,  0.33778733,  0.4838936 , ..., 31.057783  ,\n",
       "        0.6271758 ,  0.8445473 ], dtype=float32)"
      ]
     },
     "execution_count": 105,
     "metadata": {},
     "output_type": "execute_result"
    }
   ],
   "source": [
    "from xgboost import XGBRegressor\n",
    "from sklearn.metrics import mean_absolute_error \n",
    "XGBModel = XGBRegressor()\n",
    "XGBModel.fit(a_train,b_train , verbose=False)\n",
    "\n",
    "# Get the mean absolute error on the validation data :\n",
    "XGBpredictions = XGBModel.predict(a_test)\n",
    "MAE = mean_absolute_error(b_test , XGBpredictions)\n",
    "print('XGBoost validation MAE = ',MAE)\n",
    "XGBpredictions"
   ]
  },
  {
   "cell_type": "code",
   "execution_count": 106,
   "metadata": {},
   "outputs": [
    {
     "name": "stdout",
     "output_type": "stream",
     "text": [
      "0.9524402023496245\n"
     ]
    }
   ],
   "source": [
    "\n",
    "print(r2_score(b_test , XGBpredictions))"
   ]
  },
  {
   "cell_type": "code",
   "execution_count": null,
   "metadata": {},
   "outputs": [],
   "source": []
  },
  {
   "cell_type": "code",
   "execution_count": 107,
   "metadata": {},
   "outputs": [],
   "source": [
    "import pickle\n",
    "# Dump the trained SVM classifier with Pickle\n",
    "#SVM_pkl_filename = 'xgboost_yield_prediction_final.pkl'\n",
    "# Open the file to save as pkl file\n",
    "#SVM_Model_pkl = open(SVM_pkl_filename, 'wb')\n",
    "#pickle.dump(XGBpredictions, SVM_Model_pkl)\n",
    "# Close the pickle instances\n",
    "#SVM_Model_pkl.close()"
   ]
  },
  {
   "cell_type": "code",
   "execution_count": 108,
   "metadata": {},
   "outputs": [],
   "source": [
    "import joblib\n",
    " \n",
    "# Save the model as a pickle in a file\n",
    "joblib.dump(XGBModel, 'xgboost_yield_prediction_final.pkl')\n",
    " \n",
    "# Load the model from the file\n",
    "knn_from_joblib = joblib.load('xgboost_yield_prediction_final.pkl')\n",
    " \n",
    "# Use the loaded model to make predictions\n"
   ]
  }
 ],
 "metadata": {
  "accelerator": "GPU",
  "colab": {
   "collapsed_sections": [],
   "name": "FinalBennetProject.ipynb",
   "provenance": [],
   "toc_visible": true
  },
  "kernelspec": {
   "display_name": "agri",
   "language": "python",
   "name": "agri"
  },
  "language_info": {
   "codemirror_mode": {
    "name": "ipython",
    "version": 3
   },
   "file_extension": ".py",
   "mimetype": "text/x-python",
   "name": "python",
   "nbconvert_exporter": "python",
   "pygments_lexer": "ipython3",
   "version": "3.7.11"
  }
 },
 "nbformat": 4,
 "nbformat_minor": 1
}
